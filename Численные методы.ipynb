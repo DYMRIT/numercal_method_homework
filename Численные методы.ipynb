{
 "cells": [
  {
   "cell_type": "code",
   "execution_count": 32,
   "metadata": {},
   "outputs": [],
   "source": [
    "#библиотеки для работы с мат. функциями и красиво оформленной таблицей\n",
    "from math import sqrt, factorial, cosh, sin, pi\n",
    "import numpy as np\n",
    "import pandas as pd"
   ]
  },
  {
   "cell_type": "code",
   "execution_count": 41,
   "metadata": {},
   "outputs": [],
   "source": [
    "#первая ламбда-функция используется в ряде тейлора, вторая в системной функции\n",
    "cosh_arg1 = lambda x: teylor_sqrt(pow(x,2)+0.3)/(1+x)\n",
    "cosh_arg2 = lambda x: np.sqrt(pow(x,2)+0.3)/(1+x)\n",
    "sin_arg = lambda x: (1+x)/(0.6*x)\n",
    "sqrt_arg = lambda x: pow(x,2) + 0.3"
   ]
  },
  {
   "cell_type": "code",
   "execution_count": 34,
   "metadata": {},
   "outputs": [],
   "source": [
    "#значения используемые дальше\n",
    "eps = pow(10,-6)\n",
    "a = 0.2\n",
    "b = 0.31\n",
    "h = 0.01"
   ]
  },
  {
   "cell_type": "code",
   "execution_count": 35,
   "metadata": {},
   "outputs": [],
   "source": [
    "#корень через итерационную формулу герона с остановой: eps/3\n",
    "def teylor_sqrt(c):\n",
    "    x = 1\n",
    "    y = 0\n",
    "    k = 1\n",
    "    while abs(x-y) > eps/3:\n",
    "        if k%2 == 1:\n",
    "            y = (x+c/x)/2\n",
    "        else:\n",
    "            x = (y+c/y)/2\n",
    "        k += 1\n",
    "    if k%2 == 1:\n",
    "        return y\n",
    "    else:\n",
    "        return x\n",
    "#ряд тейлора гиперболического косинуса с остановой: eps/3\n",
    "def teylor_cosh(x):\n",
    "    k = 0\n",
    "    sum = 0\n",
    "    while True:\n",
    "        add = pow(cosh_arg1(x),2*k)/factorial(2*k)\n",
    "        if abs(add) <= eps/3:\n",
    "            return sum\n",
    "        sum += add\n",
    "        k += 1\n",
    "#ряд тейлора синуса с остановой: eps/(3*c2), c2 = 1.12\n",
    "def teylor_sin(x):\n",
    "    k = 0\n",
    "    sum = 0\n",
    "    while True:\n",
    "        add = pow(-1,k)*pow(sin_arg(x),2*k+1)/factorial(2*k+1)\n",
    "        if abs(add) <= eps/1.12:\n",
    "            return sum\n",
    "        sum += add\n",
    "        k += 1"
   ]
  },
  {
   "cell_type": "code",
   "execution_count": 36,
   "metadata": {},
   "outputs": [],
   "source": [
    "#словарь(массив) для гиперболического косинуса\n",
    "dict_cosh = {'x':[],\n",
    "             'teylor_cosh':[],\n",
    "             'cosh':[],\n",
    "             'difference':[]}\n",
    "for i in np.arange(a,b,h):\n",
    "    #множество точек от 0.2 до 0.3\n",
    "    dict_cosh['x'].append(i)\n",
    "    #значение гипер. кос. через ряд тейлора\n",
    "    dict_cosh['teylor_cosh'].append(teylor_cosh(i))\n",
    "    #значение гипер. кос. через системную функцию библиотеки 'math'\n",
    "    dict_cosh['cosh'].append(cosh(cosh_arg2(i)))\n",
    "    #модуль разности значений функции через ряд тейлора и системной функции\n",
    "    dict_cosh['difference'].append(abs(cosh(cosh_arg2(i)) - teylor_cosh(i)))"
   ]
  },
  {
   "cell_type": "code",
   "execution_count": 37,
   "metadata": {},
   "outputs": [],
   "source": [
    "#словарь(массив) для синуса\n",
    "dict_sin = {'x':[],\n",
    "             'teylor_sin':[],\n",
    "             'sin':[],\n",
    "             'difference':[]}\n",
    "for i in np.arange(a,b,h):\n",
    "    #множество точек от 0.2 до 0.3\n",
    "    dict_sin['x'].append(i)\n",
    "    #значение синуса через ряд тейлора\n",
    "    dict_sin['teylor_sin'].append(teylor_sin(i))\n",
    "    #значение синуса через системную функцию библиотеки 'math'\n",
    "    dict_sin['sin'].append(sin(sin_arg(i)))\n",
    "    #модуль разности значений функции через ряд тейлора и системной функции\n",
    "    dict_sin['difference'].append(abs(sin(sin_arg(i)) - teylor_sin(i)))"
   ]
  },
  {
   "cell_type": "code",
   "execution_count": 44,
   "metadata": {},
   "outputs": [],
   "source": [
    "dict_sqrt = {\n",
    "    'x': [],\n",
    "    'sqrt_geron': [],\n",
    "    'sqrt': [],\n",
    "    'delta': []\n",
    "}\n",
    "for i in np.arange(a,b,h):\n",
    "    #множество точек от 0.2 до 0.3\n",
    "    dict_sqrt['x'].append(i)\n",
    "    dict_sqrt['sqrt_geron'].append(sqrt_arg(i))\n",
    "    dict_sqrt['sqrt'].append(np.sqrt(i))\n",
    "    dict_sqrt['delta'].append(abs(sqrt_arg(i) - np.sqrt(i)))"
   ]
  },
  {
   "cell_type": "code",
   "execution_count": 38,
   "metadata": {},
   "outputs": [],
   "source": [
    "#словарь для z(x)\n",
    "dict_z ={\n",
    "    'x': [],\n",
    "    'z': [],\n",
    "    'delta': [],\n",
    "    \"z'\": []\n",
    "}\n",
    "for i in range(11):\n",
    "    #множество точек от 0.2 до 0.3\n",
    "    dict_z['x'].append(i)\n",
    "    #значение z(x) через ряд тейлора\n",
    "    dict_z['z'].append(dict_sin['teylor_sin'][i]*dict_cosh['teylor_cosh'][i])\n",
    "    #значение z(x) через системные функции\n",
    "    dict_z[\"z'\"].append(dict_sin['sin'][i]*dict_cosh['cosh'][i])\n",
    "    #разница по модулю\n",
    "    dict_z['delta'].append(dict_sin['difference'][i]*dict_cosh['difference'][i])"
   ]
  },
  {
   "cell_type": "code",
   "execution_count": 53,
   "metadata": {},
   "outputs": [
    {
     "name": "stdout",
     "output_type": "stream",
     "text": [
      "     step        fi     delta(fi)       fi'       psi    delta(psi)      psi'      sqrt  \\\n",
      "x                                                                                         \n",
      "x1   0.20 -0.544021  6.803530e-07 -0.544022  1.120397  7.702042e-08  1.120397  0.447214   \n",
      "x2   0.21 -0.177452  1.528439e-07 -0.177452  1.119832  7.564943e-08  1.119832  0.458258   \n",
      "x3   0.22  0.181345  5.769202e-07  0.181345  1.119339  7.446871e-08  1.119339  0.469042   \n",
      "x4   0.23  0.489690  1.626962e-07  0.489690  1.118915  7.346412e-08  1.118915  0.479583   \n",
      "x5   0.24  0.726811  7.795664e-07  0.726810  1.118556  7.262325e-08  1.118556  0.489898   \n",
      "x6   0.25  0.887294  2.651904e-07  0.887294  1.118260  7.193516e-08  1.118260  0.500000   \n",
      "x7   0.26  0.975251  9.486902e-08  0.975251  1.118023  7.139024e-08  1.118023  0.509902   \n",
      "x8   0.27  0.999895  6.070298e-07  0.999896  1.117844  7.098001e-08  1.117844  0.519615   \n",
      "x9   0.28  0.972530  2.514916e-07  0.972530  1.117718  7.069699e-08  1.117718  0.529150   \n",
      "x10  0.29  0.904671  1.081619e-07  0.904671  1.117645  7.053460e-08  1.117645  0.538516   \n",
      "x11  0.30  0.806990  4.816432e-08  0.806990  1.117621  7.048700e-08  1.117621  0.547723   \n",
      "\n",
      "     delta(sqrt)   sqrt'         z      delta(z)        z'  \n",
      "x                                                           \n",
      "x1      0.107214  0.3400 -0.609520  5.240108e-14 -0.609519  \n",
      "x2      0.114158  0.3441 -0.198716  1.156256e-14 -0.198716  \n",
      "x3      0.120642  0.3484  0.202987  4.296250e-14  0.202986  \n",
      "x4      0.126683  0.3529  0.547922  1.195234e-14  0.547922  \n",
      "x5      0.132298  0.3576  0.812978  5.661464e-14  0.812979  \n",
      "x6      0.137500  0.3625  0.992225  1.907651e-14  0.992226  \n",
      "x7      0.142302  0.3676  1.090354  6.772722e-15  1.090354  \n",
      "x8      0.146715  0.3729  1.117727  4.308698e-14  1.117727  \n",
      "x9      0.150750  0.3784  1.087014  1.777970e-14  1.087014  \n",
      "x10     0.154416  0.3841  1.011101  7.629158e-15  1.011101  \n",
      "x11     0.157723  0.3900  0.901908  3.394959e-15  0.901908  \n"
     ]
    }
   ],
   "source": [
    "#fi/psi/z/sqrt - значение через системные функции\n",
    "#fi'/psi'/z'/sqr' - значение функции через ряды тейлора\n",
    "#delta(fi) = abs(fi' - fi)...\n",
    "#красивая табличка\n",
    "df = pd.DataFrame({\n",
    "    'step' : [i for i in np.arange(a,b,h)],\n",
    "    'fi' : dict_sin['sin'],\n",
    "    'delta(fi)' : dict_sin['difference'],\n",
    "    \"fi'\" : dict_sin['teylor_sin'],\n",
    "    'psi' : dict_cosh['cosh'],\n",
    "    'delta(psi)' : dict_cosh['difference'],\n",
    "    \"psi'\" : dict_cosh['teylor_cosh'],\n",
    "    'sqrt': dict_sqrt['sqrt'],\n",
    "    'delta(sqrt)': dict_sqrt['delta'],\n",
    "    \"sqrt'\": dict_sqrt['sqrt_geron'],\n",
    "    'z' : dict_z['z'],\n",
    "    'delta(z)' : dict_z['delta'],\n",
    "    \"z'\" : dict_z[\"z'\"]\n",
    "    },\n",
    "    index=['x1','x2','x3','x4','x5','x6','x7','x8','x9','x10','x11'])\n",
    "df.index.name = 'x'\n",
    "pd.set_option('max_colwidth', 40)\n",
    "pd.set_option('display.width', 100)\n",
    "print(df)"
   ]
  },
  {
   "cell_type": "code",
   "execution_count": null,
   "metadata": {},
   "outputs": [],
   "source": []
  }
 ],
 "metadata": {
  "kernelspec": {
   "display_name": "Python 3",
   "language": "python",
   "name": "python3"
  },
  "language_info": {
   "codemirror_mode": {
    "name": "ipython",
    "version": 3
   },
   "file_extension": ".py",
   "mimetype": "text/x-python",
   "name": "python",
   "nbconvert_exporter": "python",
   "pygments_lexer": "ipython3",
   "version": "3.8.5"
  }
 },
 "nbformat": 4,
 "nbformat_minor": 4
}
