{
 "cells": [
  {
   "cell_type": "code",
   "execution_count": 27,
   "metadata": {},
   "outputs": [],
   "source": [
    "import numpy as np\n",
    "from math import fabs, tan, sin, cos"
   ]
  },
  {
   "cell_type": "code",
   "execution_count": 28,
   "metadata": {},
   "outputs": [],
   "source": [
    "f = lambda x: tan(3*x) + 0.4 - x*x\n",
    "f_1 = lambda x: 3/(1+x*x) - 2*x\n",
    "Sistema = lambda x,y: [sin(y+2) - x - 1.5, y + cos(x-2) - 0.5]\n",
    "Sistema1 = lambda a,x,y: [a*sin(y+2) - x - 1.5, y + a*cos(x-2) - 0.5]"
   ]
  },
  {
   "cell_type": "code",
   "execution_count": 29,
   "metadata": {},
   "outputs": [],
   "source": [
    "class Matrix:\n",
    "    \n",
    "    A = [[]]\n",
    "    def __init__(self, dim):\n",
    "        self.dim1 = dim[0]\n",
    "        self.dim2 = dim[1]\n",
    "        self.A = [[0]*self.dim2 for i in range(self.dim1)]\n",
    "        \n",
    "    def __getitem__(self, i):\n",
    "        return self.A[i]\n",
    "    \n",
    "    def __eq__(self, B):\n",
    "        assert(self.dim1 == B.dim1 and self.dim2 == B.dim2)\n",
    "        for i in range(self.dim1):\n",
    "            for j in range(self.dim2):\n",
    "                if fabs(self.A[i][j] - B[i][j]) > 1e-9:\n",
    "                    return False\n",
    "        return True\n",
    "    \n",
    "    def dim(self):\n",
    "        return (self.dim1,self.dim2)\n",
    "    \n",
    "    def __add__(self, B):\n",
    "        assert((self.dim1,self.dim2) == B.dim())\n",
    "        result = Matrix((self.dim1,self.dim2))\n",
    "        for i in range(self.dim1):\n",
    "            for j in range(self.dim2):\n",
    "                result[i][j] = self.A[i][j] + B[i][j]\n",
    "        return result\n",
    "    \n",
    "    def __sub__(self, B):\n",
    "        assert((self.dim1,self.dim2) == B.dim())\n",
    "        result = Matrix((self.dim1,self.dim2))\n",
    "        for i in range(self.dim1):\n",
    "            for j in range(self.dim2):\n",
    "                result[i][j] = self.A[i][j] - B[i][j]\n",
    "        return result\n",
    "    \n",
    "    def __mul__(self, B):\n",
    "        if(type(B) == int or type(B) == float):\n",
    "            result = Matrix((self.dim1,self.dim2))\n",
    "            for i in range(self.dim1):\n",
    "                for j in range(self.dim2):\n",
    "                    result[i][j] = self.A[i][j]*B\n",
    "            return result\n",
    "        else:\n",
    "            assert(self.dim2 == B.dim1)\n",
    "            result = Matrix((self.dim1,B.dim2))\n",
    "            for i in range(self.dim1):\n",
    "                for j in range(B.dim2):\n",
    "                    for k in range(B.dim1):\n",
    "                        result[i][j] += self.A[i][k]*B[k][j]\n",
    "            return result\n",
    "    \n",
    "    def __truediv__(self,a):\n",
    "        result = Matrix((self.dim1,self.dim2))\n",
    "        for i in range(self.dim1):\n",
    "            for j in range(self.dim2):\n",
    "                result[i][j] = self.A[i][j]/a\n",
    "        return result\n",
    "    \n",
    "    def transpose(self):\n",
    "        result = Matrix((self.dim2,self.dim1))\n",
    "        for i in range(self.dim1):\n",
    "            for j in range(self.dim2):\n",
    "                result[j][i] = self.A[i][j]\n",
    "        return result\n",
    "    \n",
    "    def norm(self):\n",
    "        result = 0\n",
    "        for i in range(self.dim1):\n",
    "            for j in range(self.dim2):\n",
    "                result += self.A[i][j]*self.A[i][j]\n",
    "        return teylor_sqrt(result)\n",
    "    \n",
    "    def norm_abs(self):\n",
    "        result = 0\n",
    "        for i in range(self.dim1):\n",
    "            for j in range(self.dim2):\n",
    "                result += ab(self.A[i][j])\n",
    "        return result\n",
    "    \n",
    "    def iseye(self):\n",
    "        assert(self.dim1 == self.dim2)\n",
    "        for i in range(self.dim1):\n",
    "            for j in range(self.dim1):\n",
    "                if i == j:\n",
    "                    self.A[i][j] = 1\n",
    "                else:\n",
    "                    self.A[i][j] = 0\n",
    "                    \n",
    "    def absolut(self):\n",
    "        for i in range(self.dim1):\n",
    "            for j in range(self.dim2):\n",
    "                self.A[i][j] = abs(self.A[i][j])\n",
    "        \n",
    "    def det(self):\n",
    "        assert(self.dim1 == self.dim2)\n",
    "        result = Matrix((self.dim1,self.dim2))\n",
    "        for i in range(self.dim1):\n",
    "            for j in range(self.dim2):\n",
    "                result[i][j] = self.A[i][j]\n",
    "        max_A = result[0][0]\n",
    "        column = 0\n",
    "        for i in range(self.dim1-1):\n",
    "            max_A = result[i][i]\n",
    "            column = i\n",
    "            for j in range(i,self.dim1):\n",
    "                if result[j][i] > max_A:\n",
    "                    max_A = result[i][j]\n",
    "                    column = j\n",
    "            for j in range(i,self.dim1):\n",
    "                result[i][j], result[column][j] = result[column][j], result[i][j]\n",
    "            #\n",
    "            for v in range(i+1,self.dim1):\n",
    "                koef = -(result[v][i]/result[i][i])\n",
    "                for j in range(i, self.dim1):\n",
    "                    result[v][j] += result[i][j]*koef\n",
    "        Res = 1\n",
    "        for i in range(self.dim1):\n",
    "            Res *= result[i][i]\n",
    "        return Res\n",
    "    \n",
    "    def diag(self):\n",
    "        assert(self.dim1 == self.dim2)\n",
    "        for i in range(self.dim1):\n",
    "            S = sum(abs(A[i][j]) for j in range(self.dim2) if j != i)\n",
    "            if fabs(A[i][i]) < S:\n",
    "                return False\n",
    "        return True\n",
    "    \n",
    "    def Edin(self):\n",
    "        for i in range(self.dim2):\n",
    "            for j in range(self.dim1):\n",
    "                self.A[i][j] = 1\n",
    "            \n",
    "    def __str__(self):\n",
    "        return str(self.A)\n",
    "    \n",
    "    def inv(self):\n",
    "        C = [[0]*(2*self.dim1) for i in range(self.dim1)]\n",
    "        for i in range(self.dim1):\n",
    "            for j in range(self.dim1):\n",
    "                C[i][j] = self.A[i][j]\n",
    "                if (i == j): C[i][j+self.dim1] = 1\n",
    "        for i in range(self.dim1):\n",
    "            for j in range(self.dim1):\n",
    "                if (i != j):\n",
    "                    t = C[j][i]/C[i][i]\n",
    "                    for k in range(2*self.dim1):\n",
    "                        C[j][k] -= t*C[i][k]\n",
    "        for i in range(self.dim1):\n",
    "            div = C[i][i]\n",
    "            for j in range(2*self.dim1):\n",
    "                C[i][j] /= div\n",
    "        S = Matrix((self.dim1,self.dim2))\n",
    "        for i in range(self.dim1):\n",
    "            for j in range(self.dim1, 2*self.dim2):\n",
    "                S[i][j-self.dim1] = C[i][j]\n",
    "                \n",
    "        return S"
   ]
  },
  {
   "cell_type": "code",
   "execution_count": 30,
   "metadata": {},
   "outputs": [],
   "source": [
    "eps = 1e-9"
   ]
  },
  {
   "cell_type": "code",
   "execution_count": 31,
   "metadata": {},
   "outputs": [],
   "source": [
    "def Method_Newton(func):\n",
    "    a,b = -10, 10\n",
    "    n = 100\n",
    "    end = True\n",
    "    while end:\n",
    "        end = True\n",
    "        h = (b-a)/n\n",
    "        xk = a\n",
    "        for k in range(1,n):\n",
    "            xk1 = a + k*h\n",
    "            if (func(xk)*func(xk1) < 0):\n",
    "                end = False\n",
    "                break;\n",
    "            xk = xk1\n",
    "        n *= 2\n",
    "    if xk < xk1:\n",
    "        ak,bk = xk, xk1\n",
    "    else:\n",
    "        ak,bk = xk1, xk\n",
    "    x = (ak+bk)/2\n",
    "    while (fabs(func(x)) > eps):\n",
    "        if (x < ak or x > bk):\n",
    "            x = (ak+bk)/2\n",
    "            if (func(x) < 0 and func(ak) < 0):\n",
    "                ak = x\n",
    "            else:\n",
    "                bk = x\n",
    "            \n",
    "        x -= func(x)/f_1(x)\n",
    "    return x;"
   ]
  },
  {
   "cell_type": "code",
   "execution_count": 32,
   "metadata": {},
   "outputs": [
    {
     "data": {
      "text/plain": [
       "-1.6983528012408105"
      ]
     },
     "execution_count": 32,
     "metadata": {},
     "output_type": "execute_result"
    }
   ],
   "source": [
    "Method_Newton(f)"
   ]
  },
  {
   "cell_type": "code",
   "execution_count": 33,
   "metadata": {},
   "outputs": [],
   "source": [
    "#-1.69835280123 eps = 10^(-10)"
   ]
  },
  {
   "cell_type": "code",
   "execution_count": 34,
   "metadata": {},
   "outputs": [],
   "source": [
    "def Jac(func,arg,x,y):\n",
    "    func11 = (func(arg,x+eps,y)[0] - func(arg,x,y)[0])/eps\n",
    "    func21 = (func(arg,x+eps,y)[1] - func(arg,x,y)[1])/eps\n",
    "    func12 = (func(arg,x,y+eps)[0] - func(arg,x,y)[0])/eps\n",
    "    func22 = (func(arg,x,y+eps)[1] - func(arg,x,y)[1])/eps\n",
    "    S = Matrix((2,2))\n",
    "    S[0][0] = func11\n",
    "    S[0][1] = func12\n",
    "    S[1][0] = func21\n",
    "    S[1][1] = func22\n",
    "    return S"
   ]
  },
  {
   "cell_type": "code",
   "execution_count": 35,
   "metadata": {},
   "outputs": [],
   "source": [
    "def Method_Newton_for_sistem(func):\n",
    "    x, y = -1.5, 0.5\n",
    "    print(f'x0,y0 = {x},{y}')\n",
    "    for i in range(1,10):\n",
    "        x1 = x\n",
    "        y1 = y\n",
    "        k = 1\n",
    "        asd = Sistema1(i/10,x,y)\n",
    "        while (fabs(asd[0]) > eps or fabs(asd[1]) > eps):\n",
    "            T = Jac(Sistema1,i/10,x,y).inv()\n",
    "            SD = [sum(T[i][k]*asd[k] for k in range(2)) for i in range(2)]\n",
    "            x -= SD[0]\n",
    "            y -= SD[1]\n",
    "            k += 1\n",
    "            asd = func(x,y)\n",
    "        print(f'x{i},y{i} = {x},{y}')\n",
    "    return x,y"
   ]
  },
  {
   "cell_type": "code",
   "execution_count": 36,
   "metadata": {},
   "outputs": [
    {
     "name": "stdout",
     "output_type": "stream",
     "text": [
      "x0,y0 = -1.5,0.5\n",
      "x1,y1 = -1.703317484600364,1.346337645233534\n",
      "x2,y2 = -1.7033174836544147,1.346337644576448\n",
      "x3,y3 = -1.7033174844428274,1.3463376452460778\n",
      "x4,y4 = -1.7033174838989829,1.346337644657042\n",
      "x5,y5 = -1.7033174847838661,1.3463376446029232\n",
      "x6,y6 = -1.7033174840706018,1.3463376447837372\n",
      "x7,y7 = -1.7033174842310361,1.3463376442686792\n",
      "x8,y8 = -1.7033174842058714,1.3463376450709008\n",
      "x9,y9 = -1.7033174843433825,1.346337645168592\n"
     ]
    },
    {
     "data": {
      "text/plain": [
       "(-1.7033174843433825, 1.346337645168592)"
      ]
     },
     "execution_count": 36,
     "metadata": {},
     "output_type": "execute_result"
    }
   ],
   "source": [
    "Method_Newton_for_sistem(Sistema)"
   ]
  },
  {
   "cell_type": "code",
   "execution_count": 20,
   "metadata": {},
   "outputs": [],
   "source": [
    "#x1 = -1.703317484248414 eps = 10^(-9)\n",
    "#y1 = 1.346337644919148 eps = 10^(-8)"
   ]
  },
  {
   "cell_type": "code",
   "execution_count": null,
   "metadata": {},
   "outputs": [],
   "source": []
  }
 ],
 "metadata": {
  "kernelspec": {
   "display_name": "Python 3",
   "language": "python",
   "name": "python3"
  },
  "language_info": {
   "codemirror_mode": {
    "name": "ipython",
    "version": 3
   },
   "file_extension": ".py",
   "mimetype": "text/x-python",
   "name": "python",
   "nbconvert_exporter": "python",
   "pygments_lexer": "ipython3",
   "version": "3.8.5"
  }
 },
 "nbformat": 4,
 "nbformat_minor": 4
}
