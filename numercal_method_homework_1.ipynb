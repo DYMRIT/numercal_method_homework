{
 "cells": [
  {
   "cell_type": "code",
   "execution_count": 1,
   "metadata": {},
   "outputs": [],
   "source": [
    "#библиотеки для работы с мат. функциями и красиво оформленной таблицей\n",
    "from math import sqrt, factorial, cosh, sin, pi\n",
    "import numpy as np\n",
    "import pandas as pd"
   ]
  },
  {
   "cell_type": "code",
   "execution_count": 2,
   "metadata": {},
   "outputs": [],
   "source": [
    "#первая ламбда-функция используется в ряде тейлора, вторая в системной функции\n",
    "cosh_arg1 = lambda x: teylor_sqrt(pow(x,2)+0.3)/(1+x)\n",
    "cosh_arg2 = lambda x: np.sqrt(pow(x,2)+0.3)/(1+x)\n",
    "sin_arg = lambda x: (1+x)/(0.6*x)\n",
    "sqrt_arg = lambda x: pow(x,2) + 0.3"
   ]
  },
  {
   "cell_type": "code",
   "execution_count": 3,
   "metadata": {},
   "outputs": [],
   "source": [
    "#значения используемые дальше\n",
    "eps = pow(10,-6)\n",
    "a = 0.2\n",
    "b = 0.31\n",
    "h = 0.01"
   ]
  },
  {
   "cell_type": "code",
   "execution_count": 4,
   "metadata": {},
   "outputs": [],
   "source": [
    "#корень через итерационную формулу герона с остановой: eps/3\n",
    "def teylor_sqrt(c):\n",
    "    if c < 1:\n",
    "        x = 1\n",
    "    else:\n",
    "        x = c\n",
    "    y = 0\n",
    "    k = 1\n",
    "    while abs(x-y) > eps/2.234:\n",
    "        if k%2 == 1:\n",
    "            y = (x+c/x)/2\n",
    "        else:\n",
    "            x = (y+c/y)/2\n",
    "        k += 1\n",
    "    if k%2 == 1:\n",
    "        return x\n",
    "    else:\n",
    "        return y\n",
    "#ряд тейлора гиперболического косинуса с остановой: eps/3\n",
    "def teylor_cosh(x):\n",
    "    k = 0\n",
    "    sum = 0\n",
    "    while True:\n",
    "        add = pow(cosh_arg1(x),2*k)/factorial(2*k)\n",
    "        sum += add\n",
    "        if abs(add) <= eps/2:\n",
    "            return sum\n",
    "        k += 1\n",
    "#ряд тейлора синуса с остановой: eps/(3*c2), c2 = 1.12\n",
    "def teylor_sin(x):\n",
    "    k = 0\n",
    "    sum = 0\n",
    "    while True:\n",
    "        add = pow(-1,k)*pow(sin_arg(x),2*k+1)/factorial(2*k+1)\n",
    "        sum += add\n",
    "        if abs(add) <= eps/2.24:\n",
    "            return sum\n",
    "        k += 1"
   ]
  },
  {
   "cell_type": "code",
   "execution_count": 5,
   "metadata": {},
   "outputs": [],
   "source": [
    "#словарь(массив) для гиперболического косинуса\n",
    "dict_cosh = {'x':[],\n",
    "             'teylor_cosh':[],\n",
    "             'cosh':[],\n",
    "             'difference':[]}\n",
    "for i in np.arange(a,b,h):\n",
    "    #множество точек от 0.2 до 0.3\n",
    "    dict_cosh['x'].append(i)\n",
    "    #значение гипер. кос. через ряд тейлора\n",
    "    dict_cosh['teylor_cosh'].append(teylor_cosh(i))\n",
    "    #значение гипер. кос. через системную функцию библиотеки 'math'\n",
    "    dict_cosh['cosh'].append(cosh(cosh_arg2(i)))\n",
    "    #модуль разности значений функции через ряд тейлора и системной функции\n",
    "    dict_cosh['difference'].append(abs(cosh(cosh_arg2(i)) - teylor_cosh(i)))"
   ]
  },
  {
   "cell_type": "code",
   "execution_count": 6,
   "metadata": {},
   "outputs": [],
   "source": [
    "dict_sin = {'x':[],\n",
    "             'teylor_sin':[],\n",
    "             'sin':[],\n",
    "             'difference':[]}\n",
    "for i in np.arange(a,b,h):\n",
    "    dict_sin['x'].append(i)\n",
    "    dict_sin['teylor_sin'].append(teylor_sin(i))\n",
    "    dict_sin['sin'].append(sin(sin_arg(i)))\n",
    "    dict_sin['difference'].append(abs(sin(sin_arg(i)) - teylor_sin(i)))"
   ]
  },
  {
   "cell_type": "code",
   "execution_count": 7,
   "metadata": {},
   "outputs": [],
   "source": [
    "dict_sqrt = {\n",
    "    'x': [],\n",
    "    'sqrt_geron': [],\n",
    "    'sqrt': [],\n",
    "    'delta': []\n",
    "}\n",
    "for i in np.arange(a,b,h):\n",
    "    #множество точек от 0.2 до 0.3\n",
    "    dict_sqrt['x'].append(i)\n",
    "    dict_sqrt['sqrt_geron'].append(teylor_sqrt(sqrt_arg(i)))\n",
    "    dict_sqrt['sqrt'].append(np.sqrt(sqrt_arg(i)))\n",
    "    dict_sqrt['delta'].append(abs(np.sqrt(sqrt_arg(i)) - teylor_sqrt(sqrt_arg(i))))"
   ]
  },
  {
   "cell_type": "code",
   "execution_count": 8,
   "metadata": {},
   "outputs": [],
   "source": [
    "#словарь для z(x)\n",
    "dict_z ={\n",
    "    'x': [],\n",
    "    'z': [],\n",
    "    'delta': [],\n",
    "    \"z'\": []\n",
    "}\n",
    "for i in range(11):\n",
    "    #множество точек от 0.2 до 0.3\n",
    "    dict_z['x'].append(i)\n",
    "    #значение z(x) через ряд тейлора\n",
    "    dict_z['z'].append(dict_sin['teylor_sin'][i]*dict_cosh['teylor_cosh'][i])\n",
    "    #значение z(x) через системные функции\n",
    "    dict_z[\"z'\"].append(dict_sin['sin'][i]*dict_cosh['cosh'][i])\n",
    "    #разница по модулю\n",
    "    dict_z['delta'].append(dict_z['z'][i] - dict_z[\"z'\"][i])"
   ]
  },
  {
   "cell_type": "code",
   "execution_count": 9,
   "metadata": {},
   "outputs": [
    {
     "name": "stdout",
     "output_type": "stream",
     "text": [
      "     step        fi     delta(fi)       fi'       psi    delta(psi)      psi'      sqrt  \\\n",
      "x                                                                                         \n",
      "x1   0.20 -0.544021  2.831679e-09 -0.544021  1.120397  2.025800e-10  1.120397  0.583095   \n",
      "x2   0.21 -0.177452  9.565668e-09 -0.177452  1.119832  1.979614e-10  1.119832  0.586600   \n",
      "x3   0.22  0.181345  2.157062e-09  0.181345  1.119339  1.939993e-10  1.119339  0.590254   \n",
      "x4   0.23  0.489690  9.759727e-09  0.489690  1.118915  1.906393e-10  1.118915  0.594054   \n",
      "x5   0.24  0.726811  2.736235e-09  0.726811  1.118556  1.878337e-10  1.118556  0.597997   \n",
      "x6   0.25  0.887294  1.556830e-08  0.887294  1.118260  1.855414e-10  1.118260  0.602080   \n",
      "x7   0.26  0.975251  5.230165e-09  0.975251  1.118023  1.837264e-10  1.118023  0.606300   \n",
      "x8   0.27  0.999895  1.845847e-09  0.999895  1.117844  1.823570e-10  1.117844  0.610655   \n",
      "x9   0.28  0.972530  1.390753e-08  0.972530  1.117718  1.814064e-10  1.117718  0.615142   \n",
      "x10  0.29  0.904671  5.661734e-09  0.904671  1.117645  1.808511e-10  1.117645  0.619758   \n",
      "x11  0.30  0.806990  2.391884e-09  0.806990  1.117621  1.806699e-10  1.117621  0.624500   \n",
      "\n",
      "      delta(sqrt)     sqrt'         z      delta(z)        z'  \n",
      "x                                                              \n",
      "x1   0.000000e+00  0.583095 -0.609519 -3.062396e-09 -0.609519  \n",
      "x2   0.000000e+00  0.586600 -0.198716  1.074707e-08 -0.198716  \n",
      "x3   0.000000e+00  0.590254  0.202986  2.379304e-09  0.202986  \n",
      "x4   0.000000e+00  0.594054  0.547922 -1.101366e-08  0.547922  \n",
      "x5   0.000000e+00  0.597997  0.812979 -3.197153e-09  0.812979  \n",
      "x6   0.000000e+00  0.602080  0.992226  1.724478e-08  0.992226  \n",
      "x7   0.000000e+00  0.606300  1.090354  5.668268e-09  1.090354  \n",
      "x8   1.110223e-16  0.610655  1.117727  1.881031e-09  1.117727  \n",
      "x9   1.110223e-16  0.615142  1.087014 -1.572112e-08  1.087014  \n",
      "x10  1.110223e-16  0.619758  1.011101 -6.491418e-09  1.011101  \n",
      "x11  0.000000e+00  0.624500  0.901908 -2.819018e-09  0.901908  \n"
     ]
    }
   ],
   "source": [
    "#fi/psi/z/sqrt - значение через системные функции\n",
    "#fi'/psi'/z'/sqr' - значение функции через ряды тейлора\n",
    "#delta(fi) = abs(fi' - fi)...\n",
    "#красивая табличка\n",
    "df = pd.DataFrame({\n",
    "    'step' : [i for i in np.arange(a,b,h)],\n",
    "    'fi' : dict_sin['sin'],\n",
    "    'delta(fi)' : dict_sin['difference'],\n",
    "    \"fi'\" : dict_sin['teylor_sin'],\n",
    "    'psi' : dict_cosh['cosh'],\n",
    "    'delta(psi)' : dict_cosh['difference'],\n",
    "    \"psi'\" : dict_cosh['teylor_cosh'],\n",
    "    'sqrt': dict_sqrt['sqrt'],\n",
    "    'delta(sqrt)': dict_sqrt['delta'],\n",
    "    \"sqrt'\": dict_sqrt['sqrt_geron'],\n",
    "    'z' : dict_z['z'],\n",
    "    'delta(z)' : dict_z['delta'],\n",
    "    \"z'\" : dict_z[\"z'\"]\n",
    "    },\n",
    "    index=['x1','x2','x3','x4','x5','x6','x7','x8','x9','x10','x11'])\n",
    "df.index.name = 'x'\n",
    "pd.set_option('max_colwidth', 40)\n",
    "pd.set_option('display.width', 100)\n",
    "print(df)"
   ]
  },
  {
   "cell_type": "code",
   "execution_count": null,
   "metadata": {},
   "outputs": [],
   "source": []
  },
  {
   "cell_type": "code",
   "execution_count": null,
   "metadata": {},
   "outputs": [],
   "source": []
  }
 ],
 "metadata": {
  "kernelspec": {
   "display_name": "Python 3",
   "language": "python",
   "name": "python3"
  },
  "language_info": {
   "codemirror_mode": {
    "name": "ipython",
    "version": 3
   },
   "file_extension": ".py",
   "mimetype": "text/x-python",
   "name": "python",
   "nbconvert_exporter": "python",
   "pygments_lexer": "ipython3",
   "version": "3.8.5"
  }
 },
 "nbformat": 4,
 "nbformat_minor": 4
}
